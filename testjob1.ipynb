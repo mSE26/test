{
 "cells": [
  {
   "cell_type": "code",
   "execution_count": 81,
   "id": "cf731eb7",
   "metadata": {},
   "outputs": [
    {
     "name": "stdout",
     "output_type": "stream",
     "text": [
      "(( @\n"
     ]
    },
    {
     "data": {
      "text/plain": [
       "'))(('"
      ]
     },
     "execution_count": 81,
     "metadata": {},
     "output_type": "execute_result"
    }
   ],
   "source": [
    "text = input()\n",
    "def due(word):\n",
    "    itr = str(word.lower())\n",
    "    chlist = []\n",
    "    forlist = []\n",
    "    poss = 0\n",
    "    for i in itr.lower():\n",
    "        poss += 1\n",
    "        if i not in chlist and i not in (itr[poss:]):\n",
    "            chlist.append(i)\n",
    "            i = '('\n",
    "            forlist.append(i)\n",
    "        else:\n",
    "            chlist.append(i)\n",
    "            i = ')'\n",
    "            forlist.append(i)\n",
    "    return ''.join(map(str, forlist)) \n",
    "due(text)"
   ]
  },
  {
   "cell_type": "code",
   "execution_count": null,
   "id": "9ce079fc",
   "metadata": {},
   "outputs": [],
   "source": []
  }
 ],
 "metadata": {
  "kernelspec": {
   "display_name": "Python 3 (ipykernel)",
   "language": "python",
   "name": "python3"
  },
  "language_info": {
   "codemirror_mode": {
    "name": "ipython",
    "version": 3
   },
   "file_extension": ".py",
   "mimetype": "text/x-python",
   "name": "python",
   "nbconvert_exporter": "python",
   "pygments_lexer": "ipython3",
   "version": "3.9.6"
  }
 },
 "nbformat": 4,
 "nbformat_minor": 5
}
